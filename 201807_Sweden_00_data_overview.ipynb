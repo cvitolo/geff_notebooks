{
 "cells": [
  {
   "cell_type": "markdown",
   "metadata": {},
   "source": [
    "<img style=\"float: left;\" src=\"./eodata/geff/images/cemsf.png\" width=\"100\"/><img style=\"float: right;\" src=\"./eodata/geff/images/icons.png\" width=\"500\"/>"
   ]
  },
  {
   "cell_type": "markdown",
   "metadata": {},
   "source": [
    "# Global ECMWF Fire Forecasting"
   ]
  },
  {
   "cell_type": "markdown",
   "metadata": {},
   "source": [
    "The European Centre for Medium-range Weather Forecasts ([ECMWF](https://www.ecmwf.int/)) produces daily fire danger forecasts and reanalysis products for the Copernicus Emergency Management Services ([CEMS](https://emergency.copernicus.eu/)). Activities are funded funded through a third-party agreement with the European Commission’s Joint Research Centre (JRC).\n",
    "\n",
    "The modelling system that generates the fire data products is called Global ECMWF Fire Forecast ([GEFF](\\href{https://git.ecmwf.int//projects/CEMSF/repos/geff/browse)) and it is based on the Canadian Fire Weather index as well as the US and Australian fire danger systems."
   ]
  },
  {
   "cell_type": "markdown",
   "metadata": {},
   "source": [
    "## Data overview"
   ]
  },
  {
   "cell_type": "markdown",
   "metadata": {},
   "source": [
    "Fire danger data products:\n",
    "\n",
    "- **geff-rt** provides the following *real-time* fire danger forecasts using weather forcings from the latest model cycle of the ECMWF’s Integrated Forecasting System (IFS):\n",
    "    - high-resolution deterministic (~9 Km, with 10 days lead time) and \n",
    "    - lower-resolution probabilistic (~18Km, with 15 days lead time)\n",
    "- **geff-re** provides historical records of global fire danger conditions (*reanalysis*) from 1980 to the present day. This dataset is updated as soon as new ERA-5 data becomes available (~2 months behind real-time) and it is made of four products:\n",
    "    - deterministic model outputs (~28 Km),\n",
    "    - probabilistic model outputs (made of 10 ensemble members, ~56 Km),\n",
    "    - ensemble mean and\n",
    "    - ensemble spread.\n",
    "    \n",
    "All of GEFF data products are under the Copernicus license, which provides users with free, full and open access to environmental data. Please note, the terms `GEFF data`, `EFFIS data` and `GWIS data` are considered synonyms and will be used interchangibly hereafter."
   ]
  },
  {
   "cell_type": "markdown",
   "metadata": {},
   "source": [
    "## Data availability"
   ]
  },
  {
   "cell_type": "markdown",
   "metadata": {},
   "source": [
    "- **geff-rt** data can be requested through an online [form](https://effis.jrc.ec.europa.eu/applications/data-request-form/) and viewed using the following platforms: the European Forest Fire Information System ([EFFIS](https://effis.jrc.ec.europa.eu/static/effis_current_situation/public/index.html)) and the Global Wildfire Information System ([GWIS](https://gwis.jrc.ec.europa.eu/static/gwis_current_situation/public/index.html))\n",
    "- **geff-re** is available through the Copernicus Climate Data Store ([CDS](https://cds.climate.copernicus.eu)).\n",
    "\n",
    "For the purpose of this tutorial, all relevant data is in the directory ./eodata/geff/sweden/"
   ]
  },
  {
   "cell_type": "markdown",
   "metadata": {},
   "source": [
    "## Event of interest: Sweden fires, 15-20 July 2018"
   ]
  },
  {
   "cell_type": "markdown",
   "metadata": {},
   "source": [
    "### Background\n",
    "In the summer of 2018, a large number of wildfires (primarily forest fires) occurred throughout much of Sweden. According to the Swedish Civil Contingencies Agency, they are the most serious in the country in modern history. The summer was unusually warm and dry, significantly raising the risk of fire. Firefighters from multiple countries were involved in fighting the fires. Many people were evacuated from their homes, but there were no fatalities.\n",
    "\n",
    "Several of the fires were started by people using disposable barbecues, though bans on these were in place due to the weather conditions. Some were started by lightning strikes. Wildfires also occurred in the neighbouring countries Denmark, Finland and Norway, but no casualties due to wildfires were reported in Scandinavia.\n",
    "(Source: https://en.wikipedia.org/wiki/2018_Sweden_wildfires).\n",
    "\n",
    "### Active fires\n",
    "Most of the active fires detected by the MODIS instruments was in the far west of Attica, close to the border with Corinthia, with a weaker signal detected in the eastern coastal region of Attica on 23/24 July."
   ]
  },
  {
   "cell_type": "code",
   "execution_count": null,
   "metadata": {},
   "outputs": [],
   "source": [
    "# Standard imports\n",
    "import os\n",
    "import numpy as np\n",
    "import pandas as pd\n",
    "import matplotlib.pyplot as plt\n",
    "import xarray as xr\n",
    "\n",
    "%matplotlib inline"
   ]
  },
  {
   "cell_type": "code",
   "execution_count": null,
   "metadata": {},
   "outputs": [],
   "source": [
    "# Open fire radiative power dataset\n",
    "frp = xr.open_dataset(\"./eodata/geff/global/frp_20180701-31.nc\")\n",
    "# Data have global coverage and are bundled in monthly datacubes, we will need to slice in time and space\n",
    "frp = frp.loc[dict(time = slice('2018-07-15', '2018-07-20'), latitude = slice(69, 55), longitude = slice(10.1, 24.8))]\n",
    "frp = frp.frpfire.mean(dim = \"time\")\n",
    "# Plot mean frpfire array\n",
    "frp.where(frp > 0).plot();"
   ]
  },
  {
   "cell_type": "markdown",
   "metadata": {},
   "source": [
    "### Fire Danger Forecasts\n",
    "Your challege: try to assess fire danger for Sweden fire using GEFF/EFFIS. For convenience, a schematic representation of the forecast issue dates and leadtimes is provided in the table below ([link to spreadsheet](https://docs.google.com/spreadsheets/d/1o-b4i8hiiNF5_I-L4GbBECA01Pf-0bwtPGJH_WzCn-M/edit?usp=sharing)).\n",
    "\n",
    "![schematic](./eodata/geff/images/screenshot-docs.google.com-2020.05.12-08_10_40.png)"
   ]
  },
  {
   "cell_type": "markdown",
   "metadata": {},
   "source": [
    "## Explore the data"
   ]
  },
  {
   "cell_type": "markdown",
   "metadata": {},
   "source": [
    "In this section we show how to load GEFF datasets and explore the content. We will touch briefly on the different spatial resolutions of each datasets and related implications (e.g. different land-sea mask -> different spatial coverage)."
   ]
  },
  {
   "cell_type": "markdown",
   "metadata": {},
   "source": [
    "### geff-rt: fire danger forecasts"
   ]
  },
  {
   "cell_type": "markdown",
   "metadata": {},
   "source": [
    "The GEFF model uses weather forcings from the ECMWF’s Integrated Forecasting System (IFS) to generate fire danger forecasts. Based on the date of a particular event (e.g. 15-20 July 2018) we can find out what IFS model cycle was used, in this case it was 45r1."
   ]
  },
  {
   "cell_type": "markdown",
   "metadata": {},
   "source": [
    "![IFS model cycles](./eodata/geff/images/IFS_model_cycles.png)"
   ]
  },
  {
   "cell_type": "markdown",
   "metadata": {},
   "source": [
    "#### HRES forecast"
   ]
  },
  {
   "cell_type": "markdown",
   "metadata": {},
   "source": [
    "This dataset provides real-time high-resolution deterministic (~9 Km) fire danger forecasts up to 10 days ahead. Let us explore the content of the sample file."
   ]
  },
  {
   "cell_type": "code",
   "execution_count": null,
   "metadata": {},
   "outputs": [],
   "source": [
    "# Open the dataset\n",
    "ds_rt_hr = xr.open_dataset(\"./eodata/geff/global/rt_hr/ECMWF_FWI_20180715_1200_hr.nc\")\n",
    "ds_rt_hr"
   ]
  },
  {
   "cell_type": "markdown",
   "metadata": {},
   "source": [
    "This dataset has three dimensions: latitude, longitude and time. In the lat/long plane data are distributed on a regular grid (2560 x 5120), while the time dimension is made of 10 levels (each corresponds to a daily forecast estimate). Each cell of this datacube contains only 8 variables: fwi, ffmc, dmc, dc, isi, bui, dsr, danger_risk. \n",
    "\n",
    "To plot and run basic operations, it is convenient to convert the dataset to a dataarray by extracting 1 variable, e.g. fwi. \n",
    "\n",
    "Remember: \n",
    "- DataArray = single multi-dimensional variable and its coordinates\n",
    "- Dataset = holds multiple variables that potentially share the same coordinates."
   ]
  },
  {
   "cell_type": "code",
   "execution_count": null,
   "metadata": {},
   "outputs": [],
   "source": [
    "# Convert ds to a dataarray extracting only the variable fwi\n",
    "da_rt_hr = ds_rt_hr.fwi\n",
    "da_rt_hr"
   ]
  },
  {
   "cell_type": "code",
   "execution_count": null,
   "metadata": {},
   "outputs": [],
   "source": [
    "# Plot the first day\n",
    "da_rt_hr[0].plot();"
   ]
  },
  {
   "cell_type": "markdown",
   "metadata": {},
   "source": [
    "#### ENS forecast"
   ]
  },
  {
   "cell_type": "markdown",
   "metadata": {},
   "source": [
    "This dataset provides real-time probabilistic (~18 Km) fire danger forecasts up to 10 days ahead. Each member of the ensemble has similar structure to the HRES but lower resolution."
   ]
  },
  {
   "cell_type": "code",
   "execution_count": null,
   "metadata": {},
   "outputs": [],
   "source": [
    "# Open the dataset\n",
    "ds_rt_en = xr.open_dataset(\"./eodata/geff/global/rt_en/ECMWF_FWI_20180715/ECMWF_FWI_20180715_1200_00_fwi.nc\")\n",
    "ds_rt_en"
   ]
  },
  {
   "cell_type": "code",
   "execution_count": null,
   "metadata": {},
   "outputs": [],
   "source": [
    "# Convert ds to a dataarray extracting only the variable fwi\n",
    "da_rt_en = ds_rt_en.fwi\n",
    "da_rt_en"
   ]
  },
  {
   "cell_type": "markdown",
   "metadata": {},
   "source": [
    "This dataset is, again, a datacube with three dimensions: latitude, longitude and time. In the lat/long plane data are distributed on a smaller regular grid (1280 x 2560) compared to the HRES forecast."
   ]
  },
  {
   "cell_type": "code",
   "execution_count": null,
   "metadata": {},
   "outputs": [],
   "source": [
    "# Plot the first day\n",
    "da_rt_en[0].plot();"
   ]
  },
  {
   "cell_type": "markdown",
   "metadata": {},
   "source": [
    "The difference in lower resolution is not evident at this scale, but it will become evident when we explore the same dataset cropped over Sweden."
   ]
  },
  {
   "cell_type": "code",
   "execution_count": null,
   "metadata": {},
   "outputs": [],
   "source": [
    "# Crop over area of interest, note lat = slice(top, bottom), lon = slice(left, right)!\n",
    "# Use this service to get coordinates: https://boundingbox.klokantech.com/\n",
    "fwi_rt_hr = da_rt_hr.loc[dict(lat = slice(69, 55), lon = slice(10.1, 24.8))]\n",
    "fwi_rt_hr[0].plot();"
   ]
  },
  {
   "cell_type": "code",
   "execution_count": null,
   "metadata": {},
   "outputs": [],
   "source": [
    "# Crop over area of interest, note lat = slice(top, bottom), lon = slice(left, right)!\n",
    "# Use this service to get coordinates: https://boundingbox.klokantech.com/\n",
    "fwi_rt_en = da_rt_en.loc[dict(lat = slice(69, 55), lon = slice(10.1, 24.8))]\n",
    "fwi_rt_en[0].plot();"
   ]
  },
  {
   "cell_type": "markdown",
   "metadata": {},
   "source": [
    "### geff-re: ERA5 based reanalysis of the Fire Weather Index"
   ]
  },
  {
   "cell_type": "markdown",
   "metadata": {},
   "source": [
    "This dataset provides historical records of global fire danger conditions from 1980 to the present day and it is made of two main types of products: (i) deterministic model outputs (HRES reanalysis), (ii) probabilistic model outputs (made of 10 ensemble members, ENS reanalysis). It is updated as soon as new ERA5 data becomes available (~2 months behind real-time). \n",
    "\n",
    "A single reanalysis layer is often used as proxy for observations (e.g. for validating the forecasts). Stacking together consecutive reanalysis estimates, allows to compute temporal trends and other long term statistics."
   ]
  },
  {
   "cell_type": "markdown",
   "metadata": {},
   "source": [
    "#### HRES reanalysis"
   ]
  },
  {
   "cell_type": "markdown",
   "metadata": {},
   "source": [
    "Let's repeat the same operations shown above, this time the dataset has only 1 temporal layer.\n",
    "The regular grid is smaller (640 x 1280) compared to the HRES/ENS forecasts.\n",
    "\n",
    "The example below shows how to explore the single layer reanalysis. Examples of how to use a reanalysis datacube will be shown in follow-up tutorials."
   ]
  },
  {
   "cell_type": "code",
   "execution_count": null,
   "metadata": {},
   "outputs": [],
   "source": [
    "# Open the dataset\n",
    "ds_e5_hr = xr.open_dataset(\"./eodata/geff/global/e5_hr/ECMWF_FWI_20180715_1200_hr_fwi_e5.nc\")\n",
    "ds_e5_hr"
   ]
  },
  {
   "cell_type": "code",
   "execution_count": null,
   "metadata": {},
   "outputs": [],
   "source": [
    "# Convert ds to a dataarray extracting only the variable fwi\n",
    "da_e5_hr = ds_e5_hr.fwi\n",
    "fwi_e5_hr = da_e5_hr.loc[dict(lat = slice(39, 37), lon = slice(23, 25))]\n",
    "fwi_e5_hr[0].plot();"
   ]
  },
  {
   "cell_type": "markdown",
   "metadata": {},
   "source": [
    "#### ENS reanalysis"
   ]
  },
  {
   "cell_type": "markdown",
   "metadata": {},
   "source": [
    "Let us repeat the same operations shown above, one last time. The ENS reanalysis dataset of each ensemble member is similar to the HRES reanalysis but the with an even coarser regular grid (320 x 640)."
   ]
  },
  {
   "cell_type": "code",
   "execution_count": null,
   "metadata": {},
   "outputs": [],
   "source": [
    "# Open the dataset\n",
    "ds_e5_en = xr.open_dataset(\"./eodata/geff/global/e5_en/ECMWF_FWI_20180715/ECMWF_FWI_20180715_1200_00_fwi_e5.nc\")\n",
    "ds_e5_en"
   ]
  },
  {
   "cell_type": "code",
   "execution_count": null,
   "metadata": {},
   "outputs": [],
   "source": [
    "da_e5_en = ds_e5_en.fwi\n",
    "fwi_e5_en = da_e5_en.loc[dict(lat = slice(39, 37), lon = slice(23, 25))]\n",
    "fwi_e5_en[0].plot();"
   ]
  },
  {
   "cell_type": "markdown",
   "metadata": {},
   "source": [
    "To get an idea of how different the 10 ensemble realisations are, we can look are the mean and spread (standard deviation) of the ensemble."
   ]
  },
  {
   "cell_type": "code",
   "execution_count": null,
   "metadata": {},
   "outputs": [],
   "source": [
    "# Let's first find the files corresponding containing the FWI indices\n",
    "dir = \"./eodata/geff/global/e5_en/ECMWF_FWI_20180715/\"\n",
    "pattern = \"ECMWF_FWI\"\n",
    "matching_files = [f for f in os.listdir(dir) if pattern in f]\n",
    "matching_files"
   ]
  },
  {
   "cell_type": "markdown",
   "metadata": {},
   "source": [
    "Note that for the purpose of calculating mean and spread, the order in which files are listed in not important!"
   ]
  },
  {
   "cell_type": "code",
   "execution_count": null,
   "metadata": {},
   "outputs": [],
   "source": [
    "# Now we extract fwi from each file, crop over Sweden and concatenate the layers in a datacube\n",
    "\n",
    "# Initialise empty list\n",
    "fwi = []\n",
    "for filename in matching_files:\n",
    "    full_path = os.path.join(dir, filename)\n",
    "    # Open the dataset\n",
    "    ds = xr.open_dataset(full_path)\n",
    "    # Convert to dataarray by extractinf fwi\n",
    "    da = ds.fwi\n",
    "    # Crop over Attica\n",
    "    layer = da.loc[dict(lat = slice(39, 37), lon = slice(23, 25))]\n",
    "    # Append\n",
    "    fwi.append(layer)\n",
    "    \n",
    "combined = xr.concat(fwi, dim = 'time')\n",
    "combined"
   ]
  },
  {
   "cell_type": "code",
   "execution_count": null,
   "metadata": {},
   "outputs": [],
   "source": [
    "# Calculate mean, then plot\n",
    "mean_fwi = combined.mean(dim = \"time\")\n",
    "mean_fwi.plot()"
   ]
  },
  {
   "cell_type": "code",
   "execution_count": null,
   "metadata": {},
   "outputs": [],
   "source": [
    "# Calculate spread (standard deviation), then plot\n",
    "std_fwi = combined.std(dim = \"time\")\n",
    "std_fwi.plot()"
   ]
  },
  {
   "cell_type": "markdown",
   "metadata": {},
   "source": [
    "In the next tutorials we will skip over the operations above, as sample data are provided already cropped to the region of interest. Also ensemble mean and spread can be requested directly from the data provider. "
   ]
  }
 ],
 "metadata": {
  "kernelspec": {
   "display_name": "Python 3",
   "language": "python",
   "name": "python3"
  },
  "language_info": {
   "codemirror_mode": {
    "name": "ipython",
    "version": 3
   },
   "file_extension": ".py",
   "mimetype": "text/x-python",
   "name": "python",
   "nbconvert_exporter": "python",
   "pygments_lexer": "ipython3",
   "version": "3.6.9"
  },
  "toc": {
   "base_numbering": 1,
   "nav_menu": {},
   "number_sections": false,
   "sideBar": false,
   "skip_h1_title": false,
   "title_cell": "Table of Contents",
   "title_sidebar": "Contents",
   "toc_cell": false,
   "toc_position": {},
   "toc_section_display": false,
   "toc_window_display": false
  }
 },
 "nbformat": 4,
 "nbformat_minor": 2
}
