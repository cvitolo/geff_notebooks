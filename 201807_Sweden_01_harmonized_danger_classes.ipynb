{
 "cells": [
  {
   "cell_type": "markdown",
   "metadata": {},
   "source": [
    "<img style=\"float: left;\" src=\"./eodata/geff/images/cemsf.png\" width=\"100\"/><img style=\"float: right;\" src=\"./eodata/geff/images/icons.png\" width=\"500\"/>"
   ]
  },
  {
   "cell_type": "markdown",
   "metadata": {},
   "source": [
    "# Global ECMWF Fire Forecasting"
   ]
  },
  {
   "cell_type": "markdown",
   "metadata": {},
   "source": [
    "## Harmonized danger classes"
   ]
  },
  {
   "cell_type": "markdown",
   "metadata": {},
   "source": [
    "According to EFFIS [documentation and user guidelines](https://effis.jrc.ec.europa.eu/about-effis/technical-background/fire-danger-forecast/):\n",
    "\n",
    "- In most European countries, the core of the wildfire season starts on 1st of March and ends on 31st of October.\n",
    "- The EFFIS network adopts the Canadian Forest Fire Weather Index (FWI) System as the method to assess the fire danger level in a harmonized way throughout Europe.\n",
    "  \n",
    "**European** Fire Danger Classes (FWI ranges, upper bound excluded):\n",
    "  - Very low = 0 - 5.2\n",
    "  - Low = 5.2 - 11.2 \n",
    "  - Moderate = 11.2 - 21.3 \n",
    "  - High = 21.3 - 38.0 \n",
    "  - Very high = 38.0 - 50.0 \n",
    "  - Extreme > 50.0\n",
    "\n",
    "In ECMWF experience, the above thresholds are particularly suited to assess fire danger in southern Europe, e.g. in the Mediterranean Region. Some countries, tend to calibrate these thresholds depending on local vegetation characteristics and fire regimes. This require local knowledge and/or experimentation.\n",
    "For instance, **Portugal** uses the following thresholds for local-level assessments of fire danger: \n",
    "  - Reduced risk = 8.4,\n",
    "  - Moderate risk = 17.2,\n",
    "  - High risk = 24.6,\n",
    "  - Maximum risk = 38.3\n",
    "\n",
    "Northern European countries might be more inclined to test **Canadian** threshold levels for the purpose of local-level assessments of fire danger:\n",
    "  - Very Low = 0 - 1,\n",
    "  - Low = 2 - 4,\n",
    "  - Moderate = 5 - 8,\n",
    "  - High = 9 - 16,\n",
    "  - VeryHigh = 17 - 30,\n",
    "  - Extreme > 30\n",
    "  \n",
    "As another example, in **Indonesia** threshold levels are (probably due to high level of humidity):\n",
    "  - Very Low = 0 - 3,\n",
    "  - Low = 3 - 5,\n",
    "  - Moderate = 5 - 10,\n",
    "  - High = 10 - 17,\n",
    "  - VeryHigh = 17 - 28,\n",
    "  - Extreme > 28"
   ]
  },
  {
   "cell_type": "markdown",
   "metadata": {},
   "source": [
    "## Classified forecasts"
   ]
  },
  {
   "cell_type": "markdown",
   "metadata": {},
   "source": [
    "Raw FWI forecast values are expressed as a continuous rating in the range [0, +Inf[ (very rarely above 100). In order to aid decision makers raw forecasts are routinely converted into danger classes, based on the thresholds mentioned above, before being displayed by the EFFIS/GWIS viewer.\n",
    "\n",
    "In this tutorial we are going to look at the predictive capability of the fire danger forecasts. Let us use the forecast issued on 14th July to see whether dangerous fire weather could have been predicted in the area where the Attica fires started burning on 23rd July (leadtime = 10 days)."
   ]
  },
  {
   "cell_type": "code",
   "execution_count": null,
   "metadata": {},
   "outputs": [],
   "source": [
    "# Import the necessary libraries and enable inline displaying of plots\n",
    "import numpy as np\n",
    "import pandas as pd\n",
    "import matplotlib.pyplot as plt\n",
    "import xarray as xr\n",
    "\n",
    "%matplotlib inline"
   ]
  },
  {
   "cell_type": "code",
   "execution_count": null,
   "metadata": {},
   "outputs": [],
   "source": [
    "# Open raw RT HRES forecast for Sweden, issued 10 days before the fires\n",
    "ds = xr.open_dataset(\"./eodata/geff/sweden/rt_hr/ECMWF_FWI_20180711_1200_hr_fwi_rt.nc\")\n",
    "\n",
    "# Plot the raw forecast, Day 10\n",
    "ds.fwi[9].plot();"
   ]
  },
  {
   "cell_type": "code",
   "execution_count": null,
   "metadata": {},
   "outputs": [],
   "source": [
    "# Plot the re-classified forecast, Day 10\n",
    "ds.fwi[9].plot(levels = [0.0, 5.2, 11.2, 21.3, 38.0, 50.0],\n",
    "               colors = [\"#008000\", \"#FFFF00\", \"#FFA500\", \"#FF0000\", \"#654321\", \"#000000\"],\n",
    "               label = ['Very low', 'Low', 'Moderate', 'High', 'Very high', 'Extreme']);"
   ]
  },
  {
   "cell_type": "code",
   "execution_count": null,
   "metadata": {},
   "outputs": [],
   "source": [
    "# Highlight only cells above Very High danger\n",
    "ds_vh = xr.where(cond = ds < 38.0, x = 0, y = ds)\n",
    "ds_vh.fwi[9].plot(levels = [0, 1]);"
   ]
  },
  {
   "cell_type": "markdown",
   "metadata": {},
   "source": [
    "# Other danger indicators"
   ]
  },
  {
   "cell_type": "markdown",
   "metadata": {},
   "source": [
    "Given the different climatic conditions in Europe, EFFIS also publishes two indicators that provide information on the local/temporal variability of the FWI compared to a historical series of approximately 30 years. These indicators are: (a) the **ranking**, which provides percentiles of occurrence of the values, and (b) the **anomaly**, computed as a standard deviation from the historical mean values. More advanced tutorials will look at anomaly and ranking."
   ]
  }
 ],
 "metadata": {
  "kernelspec": {
   "display_name": "Python 3",
   "language": "python",
   "name": "python3"
  },
  "language_info": {
   "codemirror_mode": {
    "name": "ipython",
    "version": 3
   },
   "file_extension": ".py",
   "mimetype": "text/x-python",
   "name": "python",
   "nbconvert_exporter": "python",
   "pygments_lexer": "ipython3",
   "version": "3.6.9"
  },
  "toc": {
   "base_numbering": 1,
   "nav_menu": {},
   "number_sections": false,
   "sideBar": false,
   "skip_h1_title": false,
   "title_cell": "Table of Contents",
   "title_sidebar": "Contents",
   "toc_cell": false,
   "toc_position": {},
   "toc_section_display": false,
   "toc_window_display": false
  }
 },
 "nbformat": 4,
 "nbformat_minor": 2
}
