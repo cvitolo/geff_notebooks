{
 "cells": [
  {
   "cell_type": "markdown",
   "metadata": {},
   "source": [
    "<img style=\"float: left;\" src=\"./eodata/geff/images/cemsf.png\" width=\"100\"/><img style=\"float: right;\" src=\"./eodata/geff/images/icons.png\" width=\"500\"/>"
   ]
  },
  {
   "cell_type": "markdown",
   "metadata": {},
   "source": [
    "# Global ECMWF Fire Forecasting"
   ]
  },
  {
   "cell_type": "markdown",
   "metadata": {},
   "source": [
    "## Custom danger classes"
   ]
  },
  {
   "cell_type": "markdown",
   "metadata": {},
   "source": [
    "Beside using harmonised danger classes, it is possible to use statistical methods to define critical danger levels for small areas, or even at the cell-size level. These methods are based on the definition of a local climatology and some countries, like Italy and Portugal, tend to make use of locally calculated danger levels in addition to the harmonised ones suggested by EFFIS to get a feel of how common the current fire weather is compared to the local climatology. In this tutorial we are going to show how to compute local danger classes.\n",
    "\n",
    "To assess the climatology of a given area, we are going to make use of the ERA5-based HRES reanalysis for a standard 30-year period: from 1981-01-01 to 2010-12-31. If we try to request the datacube directly from the CDS we will get an error because the data volume is too large. Best way is to write a custom application using the Toolbox of the Copernicus Climate Data Store: https://cds.climate.copernicus.eu/toolbox-editor/1117/download_hres_bbox (only accessible to logged-in users).\n",
    "\n",
    "For the purpose of this tutorial, the full reanalysis dataset can be retrieved from Zenodo. This dataset can be subsetted in time and space as already shown in previous tutorials. For the interested readers, a computationally efficient way to subset a large datacube is to use CDO (Climate Data Operator). The command to subset a datacube over Portugal is: `cdo sellonlatbox,350.18,353.81,36.78,42.15 fwi_1981_2010.nc fwi_1981_2010_attica.nc` "
   ]
  },
  {
   "cell_type": "code",
   "execution_count": null,
   "metadata": {},
   "outputs": [],
   "source": [
    "# Import the necessary libraries and enable inline displaying of plots\n",
    "import numpy as np\n",
    "import pandas as pd\n",
    "import matplotlib.pyplot as plt\n",
    "import xarray as xr\n",
    "\n",
    "%matplotlib inline"
   ]
  },
  {
   "cell_type": "code",
   "execution_count": null,
   "metadata": {},
   "outputs": [],
   "source": [
    "# Open reanalysis 1981-2010\n",
    "ds = xr.open_dataset(\"./eodata/geff/202007_Portugal/e5_hr/fwi_1981_2010_Portugal.nc\")\n",
    "fwi = ds.fwi"
   ]
  },
  {
   "cell_type": "markdown",
   "metadata": {},
   "source": [
    "Let us briefly explore how the data looks like on a random summer day and then look at the seasonal variability."
   ]
  },
  {
   "cell_type": "code",
   "execution_count": null,
   "metadata": {},
   "outputs": [],
   "source": [
    "# Plot a layer in August (1981-08-29)\n",
    "fwi[30*8,:,:].plot();"
   ]
  },
  {
   "cell_type": "markdown",
   "metadata": {},
   "source": [
    "What is the mean value over the area for each day (over the first 3 years)?"
   ]
  },
  {
   "cell_type": "code",
   "execution_count": null,
   "metadata": {},
   "outputs": [],
   "source": [
    "fwi_mean = fwi[1:(3*365)].mean(dim = ('lon', 'lat'))"
   ]
  },
  {
   "cell_type": "code",
   "execution_count": null,
   "metadata": {},
   "outputs": [],
   "source": [
    "# Plot the mean value over a 3-year period\n",
    "fwi_mean.plot();"
   ]
  },
  {
   "cell_type": "markdown",
   "metadata": {},
   "source": [
    "As expected, FWI value oscillate between 0 and 60 with highest values in summer. A data-driven way to derive danger thresholds makes use of percentiles. The set below usually corresponds to very low, low, moderate, high, very high and extreme danger: "
   ]
  },
  {
   "cell_type": "code",
   "execution_count": null,
   "metadata": {},
   "outputs": [],
   "source": [
    "# Define percentiles of interest to generate danger threshold maps\n",
    "fire_percentiles = [0.75, 0.85, 0.90, 0.95, 0.98]"
   ]
  },
  {
   "cell_type": "markdown",
   "metadata": {},
   "source": [
    "Below are two different approaches."
   ]
  },
  {
   "cell_type": "markdown",
   "metadata": {},
   "source": [
    "#### Regional Danger Levels\n",
    "\n",
    "If the same thresholds have to be used throughtout the year and for large areas, the percentiles can be simply calculated over the full time series record and then spatially averaged."
   ]
  },
  {
   "cell_type": "code",
   "execution_count": null,
   "metadata": {},
   "outputs": [],
   "source": [
    "# Calculate the maps of percentiles as threshold of danger\n",
    "danger_threshold_maps = fwi.quantile(q = fire_percentiles, dim = 'time', keep_attrs = True)\n",
    "# Plot the map corresponding to the 90th percentile = high danger\n",
    "danger_threshold_maps[2].plot();"
   ]
  },
  {
   "cell_type": "code",
   "execution_count": null,
   "metadata": {},
   "outputs": [],
   "source": [
    "# Obtain fixed set of thresholds as the median over the area for each time step (as integers)\n",
    "# Very low < 24\n",
    "# Low = 24-31\n",
    "# Moderate = 31-36\n",
    "# High = 36-43\n",
    "# Very high = 43-52\n",
    "# Extreme > 52\n",
    "danger_threshold_maps.median(dim=('lon', 'lat')).round(0)"
   ]
  },
  {
   "cell_type": "markdown",
   "metadata": {},
   "source": [
    "This approach generally tends to underestimate danger levels because the sample contains many low values occurring during autumn and winter months. As an alternative, one could only consider records during the fire season (if known in advance). Let's assume the fire season in Attica goes from June to August (JJA):"
   ]
  },
  {
   "cell_type": "code",
   "execution_count": null,
   "metadata": {},
   "outputs": [],
   "source": [
    "# Find indices corresponding to JJA\n",
    "idx = np.concatenate(np.where((fwi.time.dt.month >= 6)  & (fwi.time.dt.month <= 8)))"
   ]
  },
  {
   "cell_type": "code",
   "execution_count": null,
   "metadata": {},
   "outputs": [],
   "source": [
    "# Calculate quantiles only over JJA\n",
    "danger_threshold_maps_JJA = fwi[idx,:,:].quantile(q = fire_percentiles, dim = 'time', keep_attrs = True)\n",
    "# Plot the map corresponding to the 90th percentile = high danger\n",
    "danger_threshold_maps_JJA[2].plot();"
   ]
  },
  {
   "cell_type": "code",
   "execution_count": null,
   "metadata": {},
   "outputs": [],
   "source": [
    "# Obtain fixed set of thresholds as the median over the area for each time step\n",
    "# Very low < 36\n",
    "# Low = 36 - 41\n",
    "# Moderate = 41 - 46\n",
    "# High = 46 - 50\n",
    "# Very high = 50 - 56\n",
    "# Extreme > 56\n",
    "danger_threshold_maps_JJA.median(dim=('lon', 'lat')).round(0)"
   ]
  },
  {
   "cell_type": "markdown",
   "metadata": {},
   "source": [
    "This approach relies on the a-priori estimate of the length of the fire season, which is not always trivial. Also, spatial averaging over large regions should be avoided (if possible) to remove smoothing effects.\n",
    "\n",
    "These thresholds are much higher that EFFIS ones. How would the re-classified forecast look like using these local thresholds?"
   ]
  },
  {
   "cell_type": "code",
   "execution_count": null,
   "metadata": {},
   "outputs": [],
   "source": [
    "# Open raw RT HRES forecast for Portugal, issued on 16th July 2018 (10 days before the fires)\n",
    "fct = xr.open_dataset(\"./eodata/geff/202007_Portugal/rt_hr/ECMWF_FWI_20200716_1200_hr_fwi_rt.nc\")\n",
    "# Plot the re-classified forecast, Day 10\n",
    "fct.fwi[9].plot(levels = [0, 36.0, 41.0, 46.0, 50.0, 56.0],\n",
    "                colors = [\"#008000\", \"#FFFF00\", \"#FFA500\", \"#FF0000\", \"#654321\", \"#000000\"],\n",
    "                label = ['Very low', 'Low', 'Moderate', 'High', 'Very high', 'Extreme']);"
   ]
  },
  {
   "cell_type": "markdown",
   "metadata": {},
   "source": [
    "#### Maps of danger levels based on the daily fire climatology"
   ]
  },
  {
   "cell_type": "markdown",
   "metadata": {},
   "source": [
    "More often, local authorities estimate statistical thresholds based on the daily climatology on a cell-by-cell basis. The thresholds are delivered in the form of a map, which allows to avoid any smoothing effect due to spatial averaging. \n",
    "To understand how this works, let's assume we want to estimate danger level maps for 10th July."
   ]
  },
  {
   "cell_type": "code",
   "execution_count": null,
   "metadata": {},
   "outputs": [],
   "source": [
    "# Find indices of dates corresponding to 25rd July\n",
    "idx = np.concatenate(np.where((fwi.time.dt.day == 25) & (fwi.time.dt.month == 7)))"
   ]
  },
  {
   "cell_type": "markdown",
   "metadata": {},
   "source": [
    "Let's expand this range of indices to include 4 days before and after each date"
   ]
  },
  {
   "cell_type": "code",
   "execution_count": null,
   "metadata": {},
   "outputs": [],
   "source": [
    "indices_list = []\n",
    "for i in idx:\n",
    "    indices_list.append(list(range(i - 4, i + 4 + 1)))\n",
    "    \n",
    "# Concatenate all the indices in a 1-dimensional array\n",
    "indices = np.concatenate(indices_list)"
   ]
  },
  {
   "cell_type": "code",
   "execution_count": null,
   "metadata": {},
   "outputs": [],
   "source": [
    "# Calculate the maps of percentiles as threshold of danger\n",
    "fwi10July = fwi[indices,:,:]\n",
    "daily_danger_threshold_maps = fwi10July.quantile(q = fire_percentiles, dim = 'time', keep_attrs = True)\n",
    "# Plot the map of daily climatological 90th percentile as threshold of high danger\n",
    "daily_danger_threshold_maps[2].plot();"
   ]
  },
  {
   "cell_type": "markdown",
   "metadata": {},
   "source": [
    "This map is very similar to the one calculated previously, which means that the fire weather in Attica does not vary much over the fire season."
   ]
  }
 ],
 "metadata": {
  "kernelspec": {
   "display_name": "Python 3",
   "language": "python",
   "name": "python3"
  },
  "language_info": {
   "codemirror_mode": {
    "name": "ipython",
    "version": 3
   },
   "file_extension": ".py",
   "mimetype": "text/x-python",
   "name": "python",
   "nbconvert_exporter": "python",
   "pygments_lexer": "ipython3",
   "version": "3.6.9"
  },
  "toc": {
   "base_numbering": 1,
   "nav_menu": {},
   "number_sections": false,
   "sideBar": false,
   "skip_h1_title": false,
   "title_cell": "Table of Contents",
   "title_sidebar": "Contents",
   "toc_cell": false,
   "toc_position": {},
   "toc_section_display": false,
   "toc_window_display": false
  }
 },
 "nbformat": 4,
 "nbformat_minor": 2
}
